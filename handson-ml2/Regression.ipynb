{
 "cells": [
  {
   "cell_type": "code",
   "execution_count": null,
   "id": "c8c2d899-95e1-401b-8407-cd40996fbf65",
   "metadata": {},
   "outputs": [],
   "source": [
    "%matplotlib inline\n",
    "import matplotlib.pyplot as plt\n",
    "\n",
    "import numpy as np\n",
    "import pandas as pd\n",
    "\n",
    "import urllib.request\n",
    "import tarfile\n",
    "\n",
    "from pathlib import Path"
   ]
  },
  {
   "cell_type": "code",
   "execution_count": null,
   "id": "806bb2b7-7728-42f0-b832-760e90dd5317",
   "metadata": {},
   "outputs": [],
   "source": [
    "dataUrl = \"https://raw.githubusercontent.com/ageron/handson-ml2/master/datasets/housing/housing.tgz\"\n",
    "\n",
    "dataTgzPath = Path(\"housing.tgz\")\n",
    "dataCsvPath = Path(\"housing.csv\")\n",
    "\n",
    "if not dataCsvPath.exists():\n",
    "    urllib.request.urlretrieve(dataUrl, dataTgzPath)\n",
    "    dataTgzFile = tarfile.open(dataTgzPath)\n",
    "    dataTgzFile.extractall()\n",
    "    dataTgzFile.close()\n",
    "    dataTgzPath.unlink()"
   ]
  },
  {
   "cell_type": "code",
   "execution_count": null,
   "id": "e7b2b1be-77a8-47c5-bf64-9d6f297336f6",
   "metadata": {},
   "outputs": [],
   "source": [
    "housingData = pd.read_csv(dataCsvPath)"
   ]
  },
  {
   "cell_type": "code",
   "execution_count": null,
   "id": "fe371dbe-ffe6-4050-9175-cd7e42b21e83",
   "metadata": {},
   "outputs": [],
   "source": [
    "housingData.head() # First 5 rows\n",
    "housingData.info() # Column names and data types\n",
    "housingData.describe() # Column count, mean, std, min, max, etc."
   ]
  },
  {
   "cell_type": "code",
   "execution_count": null,
   "id": "84a83349-c744-4d89-a4b7-ef9307d7ef42",
   "metadata": {},
   "outputs": [],
   "source": [
    "housingData.hist(bins=50, figsize=(20,15))\n",
    "plt.show()"
   ]
  },
  {
   "cell_type": "code",
   "execution_count": null,
   "id": "8c985637-2839-4df6-95d7-785dbf5dd1e8",
   "metadata": {},
   "outputs": [],
   "source": [
    "from pandas.plotting import scatter_matrix \n",
    "scatter_matrix(housingData, figsize=(24, 16))\n",
    "housingData.corr()"
   ]
  },
  {
   "cell_type": "code",
   "execution_count": null,
   "id": "7c5f83dd-a0c0-4d43-84b8-2d2f70e589bc",
   "metadata": {},
   "outputs": [],
   "source": [
    "# Create a train set and a test set, the test set is usually 20% of the data\n",
    "from sklearn.model_selection import train_test_split\n",
    "\n",
    "trainSet, testSet = train_test_split(housingData, test_size=0.2, random_state=42)"
   ]
  },
  {
   "cell_type": "code",
   "execution_count": null,
   "id": "a75b10d6-20bd-44d7-af41-4c9a793952ab",
   "metadata": {},
   "outputs": [],
   "source": []
  }
 ],
 "metadata": {
  "kernelspec": {
   "display_name": "Python 3",
   "language": "python",
   "name": "python3"
  },
  "language_info": {
   "codemirror_mode": {
    "name": "ipython",
    "version": 3
   },
   "file_extension": ".py",
   "mimetype": "text/x-python",
   "name": "python",
   "nbconvert_exporter": "python",
   "pygments_lexer": "ipython3",
   "version": "3.7.10"
  }
 },
 "nbformat": 4,
 "nbformat_minor": 5
}
