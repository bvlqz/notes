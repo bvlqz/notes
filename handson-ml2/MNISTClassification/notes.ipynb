{
 "cells": [
  {
   "cell_type": "code",
   "execution_count": null,
   "id": "f66980e8-a286-46e4-96f9-321bb1e71e80",
   "metadata": {},
   "outputs": [],
   "source": [
    "from sklearn.datasets import fetch_openml\n",
    "mnist = fetch_openml('mnist_784', version=1, as_frame=False)"
   ]
  },
  {
   "cell_type": "code",
   "execution_count": null,
   "id": "5fc45d30-cab9-4e66-9160-8211b880c20c",
   "metadata": {},
   "outputs": [],
   "source": [
    "type(mnist)"
   ]
  },
  {
   "cell_type": "code",
   "execution_count": null,
   "id": "9b561d8e-06e3-4820-919e-d8a8c0b28676",
   "metadata": {},
   "outputs": [],
   "source": [
    "print(mnist[\"DESCR\"])"
   ]
  },
  {
   "cell_type": "code",
   "execution_count": null,
   "id": "552c0c9c-a059-4fbd-a48b-e824b787c988",
   "metadata": {},
   "outputs": [],
   "source": [
    "import matplotlib as mpl\n",
    "import matplotlib.pyplot as plt\n",
    "\n",
    "plt.imshow(mnist[\"data\"][10].reshape(28,28), cmap=\"binary\")\n",
    "plt.show()\n",
    "print(f'Target: {mnist[\"target\"][10]}')"
   ]
  },
  {
   "cell_type": "code",
   "execution_count": null,
   "id": "2c8e4410-6613-4dec-b28a-62ad6616f396",
   "metadata": {},
   "outputs": [],
   "source": [
    "import numpy as np\n",
    "\n",
    "mnistData = mnist[\"data\"]\n",
    "mnistTarget = mnist[\"target\"]\n",
    "mnistTarget = mnistTarget.astype(np.uint8)"
   ]
  },
  {
   "cell_type": "code",
   "execution_count": null,
   "id": "3ae3d796-7a66-4db9-bc02-7317c2dccbe2",
   "metadata": {},
   "outputs": [],
   "source": [
    "mnistDataTrain, mnistDataTest = mnistData[:60000], mnistData[60000:]\n",
    "mnistTargetTrain, mnistTargetTest = mnistTarget[:60000], mnistTarget[60000:]"
   ]
  },
  {
   "cell_type": "code",
   "execution_count": null,
   "id": "2081a45a-08b9-4f70-bc52-b6963d31a898",
   "metadata": {},
   "outputs": [],
   "source": [
    "from sklearn.linear_model import SGDClassifier\n",
    "\n",
    "digitTargetTrain = (mnistTargetTrain == 5)\n",
    "digitTargetTest = (mnistTargetTest == 5)\n",
    "\n",
    "sgdC = SGDClassifier(random_state=42)\n",
    "sgdC.fit(mnistDataTrain, digitTargetTrain)"
   ]
  },
  {
   "cell_type": "code",
   "execution_count": null,
   "id": "ab926a01-04be-4955-885f-191655d9cb8b",
   "metadata": {},
   "outputs": [],
   "source": [
    "from sklearn.model_selection import cross_val_score\n",
    "\n",
    "cross_val_score(sgdC, mnistDataTrain, digitTargetTrain, cv=3, scoring=\"accuracy\")"
   ]
  },
  {
   "cell_type": "code",
   "execution_count": null,
   "id": "f26fb36b-054d-4881-8026-cc3831fbc0e7",
   "metadata": {},
   "outputs": [],
   "source": [
    "from sklearn.model_selection import cross_val_predict\n",
    "from sklearn.metrics import confusion_matrix\n",
    "\n",
    "labelPrediction = cross_val_predict(sgdC, mnistDataTrain, digitTargetTrain, cv=3)\n",
    "confusion_matrix(digitTargetTrain, labelPrediction)"
   ]
  },
  {
   "cell_type": "code",
   "execution_count": null,
   "id": "7d30f519-c8ae-45b3-8379-1d52bb7bab1e",
   "metadata": {},
   "outputs": [],
   "source": [
    "\n"
   ]
  },
  {
   "cell_type": "code",
   "execution_count": null,
   "id": "73f7951c-9b99-4b8f-a552-c54f069a3db1",
   "metadata": {},
   "outputs": [],
   "source": []
  }
 ],
 "metadata": {
  "kernelspec": {
   "display_name": "Python 3",
   "language": "python",
   "name": "python3"
  },
  "language_info": {
   "codemirror_mode": {
    "name": "ipython",
    "version": 3
   },
   "file_extension": ".py",
   "mimetype": "text/x-python",
   "name": "python",
   "nbconvert_exporter": "python",
   "pygments_lexer": "ipython3",
   "version": "3.7.10"
  }
 },
 "nbformat": 4,
 "nbformat_minor": 5
}
